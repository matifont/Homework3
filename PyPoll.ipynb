{
 "cells": [
  {
   "cell_type": "code",
   "execution_count": 7,
   "metadata": {},
   "outputs": [],
   "source": [
    "import os\n",
    "import csv"
   ]
  },
  {
   "cell_type": "markdown",
   "metadata": {},
   "source": [
    "Complete list of candidates who received votes\n",
    "% of votes each candidate won\n",
    "#winner of election based on popular vote"
   ]
  },
  {
   "cell_type": "code",
   "execution_count": 11,
   "metadata": {},
   "outputs": [],
   "source": [
    "SourceDir=\"Homeworks\"\n",
    "SourceFile=\"PyPollResources.csv\"\n",
    "filepath=os.path.join(SourceDir,SourceFile)"
   ]
  },
  {
   "cell_type": "code",
   "execution_count": 16,
   "metadata": {},
   "outputs": [],
   "source": [
    "#set variables\n",
    "votes=[]\n",
    "total_votes=0\n",
    "candidates_percent={}\n",
    "candidates={}\n",
    "winner=\" \"\n",
    "winner_count=0\n",
    "\n",
    "\n"
   ]
  },
  {
   "cell_type": "code",
   "execution_count": 20,
   "metadata": {
    "scrolled": true
   },
   "outputs": [
    {
     "name": "stdout",
     "output_type": "stream",
     "text": [
      "Election Results\n",
      "-------------------------\n",
      "Total Votes:14084000\n",
      "-------------------------\n",
      "Correy: 20.0% (2816800)\n",
      "Khan: 63.0% (8872920)\n",
      "Li: 14.0% (1971760)\n",
      "O'Tooley: 3.0% (422520)\n",
      "-------------------------------------\n",
      "Winner: Khan\n",
      "-------------------------------------\n"
     ]
    },
    {
     "data": {
      "text/plain": [
       "39"
      ]
     },
     "execution_count": 20,
     "metadata": {},
     "output_type": "execute_result"
    }
   ],
   "source": [
    "with open (SourceFile) as csvfile:\n",
    "    rawData=csv.reader(csvfile,delimiter=',')\n",
    "    next(rawData,\"None\")#skip headers\n",
    "    firstrow=next(rawData)\n",
    "    for row in rawData:\n",
    "        total_votes+=1\n",
    "        if row[2] in candidates.keys():\n",
    "            candidates[row[2]]+=1\n",
    "        else:\n",
    "            candidates[row[2]]=1\n",
    "for key,value in candidates.items():\n",
    "    candidates_percent[key]=round((value/total_votes)*100,2)\n",
    "for key in candidates.keys():\n",
    "    if candidates[key]>winner_count:\n",
    "            winner=key\n",
    "            winner_count=candidates[key]\n",
    "print(\"Election Results\")\n",
    "print(\"-------------------------\")\n",
    "print(\"Total Votes:\"+str(total_votes))\n",
    "print(\"-------------------------\")\n",
    "for key,value in candidates.items():\n",
    "    print(key + \": \" + str(candidates_percent[key]) + \"% (\" + str(value) + \")\")\n",
    "print(\"-------------------------------------\")\n",
    "print(\"Winner: \" + winner)\n",
    "print(\"-------------------------------------\")\n",
    "\n",
    "new_file = open(\"pollresults.txt\", \"w\")\n",
    "\n",
    "# writing the new file\n",
    "new_file.write(\"Election Results \\n\")\n",
    "new_file.write(\"------------------------------------- \\n\")\n",
    "new_file.write(\"Total Votes: \" + str(total_votes) + \"\\n\")\n",
    "new_file.write(\"------------------------------------- \\n\")\n",
    "for key, value in candidates.items():\n",
    "    new_file.write(key + \": \" + str(candidates_percent[key]) + \"% (\" + str(value) + \") \\n\")\n",
    "new_file.write(\"------------------------------------- \\n\")\n",
    "new_file.write(\"Winner: \" + winner + \"\\n\")\n",
    "new_file.write(\"------------------------------------- \\n\")\n",
    "    \n",
    "    \n",
    "            \n"
   ]
  },
  {
   "cell_type": "code",
   "execution_count": null,
   "metadata": {},
   "outputs": [],
   "source": []
  },
  {
   "cell_type": "code",
   "execution_count": null,
   "metadata": {},
   "outputs": [],
   "source": []
  }
 ],
 "metadata": {
  "kernelspec": {
   "display_name": "Python 3",
   "language": "python",
   "name": "python3"
  },
  "language_info": {
   "codemirror_mode": {
    "name": "ipython",
    "version": 3
   },
   "file_extension": ".py",
   "mimetype": "text/x-python",
   "name": "python",
   "nbconvert_exporter": "python",
   "pygments_lexer": "ipython3",
   "version": "3.8.3"
  }
 },
 "nbformat": 4,
 "nbformat_minor": 4
}
