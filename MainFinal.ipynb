{
 "cells": [
  {
   "cell_type": "markdown",
   "metadata": {},
   "source": [
    "# Create a Python script that analyzes the PyBank records to calculate each of the following:\n",
    "# -->>  The total number of months included in the dataset\n",
    "# -->>  The net total amount of \"Profit/Losses\" over the entire period\n",
    "# -->>  The average of the changes in \"Profit/Losses\" over the entire period\n",
    "# -->>  The greatest increase in profits (date and amount) over the entire period\n",
    "# -->>  The greatest decrease in losses (date and amount) over the entire period\n",
    "# -->>  Print the analysis to the terminal and export a text file with the results\n"
   ]
  },
  {
   "cell_type": "code",
   "execution_count": 14,
   "metadata": {},
   "outputs": [],
   "source": [
    "#import dependencies\n",
    "import os\n",
    "import csv"
   ]
  },
  {
   "cell_type": "code",
   "execution_count": 15,
   "metadata": {},
   "outputs": [],
   "source": [
    "#Varialbe definition\n",
    "months=[]\n",
    "profit_loss_changes=[]\n",
    "count_months=0\n",
    "net_profit_loss=0\n",
    "previous_month_profit_loss=0\n",
    "current_month_profit_loss=0\n",
    "profit_loss_change=0"
   ]
  },
  {
   "cell_type": "code",
   "execution_count": 16,
   "metadata": {},
   "outputs": [],
   "source": [
    "#set path and open file\n",
    "SourceDir=\"Homeworks\"\n",
    "SourceFile=\"BudgetData.csv\"\n",
    "filepath=os.path.join(SourceDir,SourceFile)\n"
   ]
  },
  {
   "cell_type": "code",
   "execution_count": 17,
   "metadata": {},
   "outputs": [
    {
     "name": "stdout",
     "output_type": "stream",
     "text": [
      "24\n",
      "Feb-2012 Sep-2013\n"
     ]
    }
   ],
   "source": [
    "with open (SourceFile) as csvfile:\n",
    "    rawData=csv.reader(csvfile,delimiter=',')\n",
    "    next(rawData,\"None\")#skip headers\n",
    "    for row in rawData:\n",
    "        #count months\n",
    "        count_months+=1\n",
    "        \n",
    "        #Net total amount of profit and losses over the entire period\n",
    "        current_month_profit_loss=int(row[1])\n",
    "        net_profit_loss+=current_month_profit_loss\n",
    "        \n",
    "        if (count_months==1):\n",
    "            previous_month_profit_loss=current_month_profit_loss\n",
    "            continue\n",
    "        else:\n",
    "            #compute change in profit loss\n",
    "            profit_loss_change=current_month_profit_loss- previous_month_profit_loss\n",
    "            # Append each month to the list of months\n",
    "            months.append(row[0])\n",
    "            #append each profit and loss change\n",
    "            profit_loss_changes.append(profit_loss_change)\n",
    "            #For next loop make current month the previous month for the next loop\n",
    "            previous_month_profit_loss= current_month_profit_loss\n",
    "            \n",
    "        \n",
    "            \n",
    "        \n",
    "        \n",
    "    sum_profit_loss=sum(profit_loss_changes)\n",
    "    average_profit_loss=round(sum_profit_loss/(count_months-1),2)\n",
    "    #print(average_profit_loss)\n",
    "    #print(months)\n",
    "    #highest and lowest profit and losses\n",
    "    highest_change=max(profit_loss_changes)\n",
    "    lowest_change=min(profit_loss_changes)\n",
    "#locate the index value of highest and lowest changes in profit and losses over the entire period\n",
    "    highest_month_index=profit_loss_changes.index(highest_change)\n",
    "    lowest_month_index=profit_loss_changes.index(lowest_change)\n",
    "    print(highest_month_index)\n",
    "    best_month= months[highest_month_index]\n",
    "    worst_month=months[lowest_month_index]\n",
    "    print(best_month,worst_month)\n",
    "     "
   ]
  },
  {
   "cell_type": "code",
   "execution_count": 18,
   "metadata": {},
   "outputs": [
    {
     "name": "stdout",
     "output_type": "stream",
     "text": [
      "Financial Analysis\n",
      "----------------------\n",
      "Total Months: 86\n",
      "Total: $38382578\n",
      "Average change: -2315.12\n",
      "Greatest Increase In Profits: Feb-2012 ($1926159)\n",
      "Greatest Decrease In Losses: Sep-2013 ($-2196167)\n"
     ]
    }
   ],
   "source": [
    "#Print analysis\n",
    "print(\"Financial Analysis\")\n",
    "print(\"----------------------\")\n",
    "print(f\"Total Months: {count_months}\")\n",
    "print(f\"Total: ${net_profit_loss}\")\n",
    "print(f\"Average change: {average_profit_loss}\")\n",
    "print(f\"Greatest Increase In Profits: {best_month} (${highest_change})\")\n",
    "print(f\"Greatest Decrease In Losses: {worst_month} (${lowest_change})\")\n",
    "\n",
    "\n",
    "      "
   ]
  },
  {
   "cell_type": "code",
   "execution_count": 20,
   "metadata": {},
   "outputs": [],
   "source": [
    "#Export file \n",
    "budget_file=\"budget_data.txt\"\n",
    "with open(budget_file,\"w\") as outfile:\n",
    "    outfile.write(\"Financial Anlaysis\\n\")\n",
    "    outfile.write(\"-------------------\")\n",
    "    outfile.write(f\"Total Months:{count_months}\\n\")\n",
    "    outfile.write(f\"Total:  ${net_profit_loss}\\n\")\n",
    "    outfile.write(f\"Average Change:  ${average_profit_loss}\\n\")\n",
    "    outfile.write(f\"Greatest Increase in Profits:  {best_month} (${highest_change})\\n\")\n",
    "    outfile.write(f\"Greatest Decrease in Losses: {worst_month} (${lowest_change})\\n\")\n",
    "    "
   ]
  },
  {
   "cell_type": "code",
   "execution_count": null,
   "metadata": {},
   "outputs": [],
   "source": []
  },
  {
   "cell_type": "code",
   "execution_count": null,
   "metadata": {},
   "outputs": [],
   "source": []
  },
  {
   "cell_type": "code",
   "execution_count": null,
   "metadata": {},
   "outputs": [],
   "source": []
  },
  {
   "cell_type": "code",
   "execution_count": null,
   "metadata": {},
   "outputs": [],
   "source": []
  }
 ],
 "metadata": {
  "kernelspec": {
   "display_name": "Python 3",
   "language": "python",
   "name": "python3"
  },
  "language_info": {
   "codemirror_mode": {
    "name": "ipython",
    "version": 3
   },
   "file_extension": ".py",
   "mimetype": "text/x-python",
   "name": "python",
   "nbconvert_exporter": "python",
   "pygments_lexer": "ipython3",
   "version": "3.8.3"
  }
 },
 "nbformat": 4,
 "nbformat_minor": 4
}
